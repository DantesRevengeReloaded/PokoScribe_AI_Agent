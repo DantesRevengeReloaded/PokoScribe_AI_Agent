{
 "cells": [
  {
   "cell_type": "code",
   "execution_count": 10,
   "metadata": {},
   "outputs": [
    {
     "name": "stdout",
     "output_type": "stream",
     "text": [
      "hours outside are:  1051200\n",
      "days outside are:  43800\n",
      "months outside are:  1460\n",
      "years outside are:  121\n"
     ]
    }
   ],
   "source": [
    "# time passing from outside world Academus Grove\n",
    "\n",
    "def timeoutside_days(daysnum):\n",
    "    outsidehours = daysnum * 120 * 24\n",
    "    outsidedays= outsidehours // 24\n",
    "    outsidemonths = outsidedays // 30\n",
    "    outsideyears = outsidemonths // 12\n",
    "    print ('hours outside are: ', outsidehours)\n",
    "    print ('days outside are: ', outsidedays)\n",
    "    print ('months outside are: ', outsidemonths)\n",
    "    print ('years outside are: ', outsideyears)\n",
    "\n",
    "timeoutside_days(365)"
   ]
  }
 ],
 "metadata": {
  "kernelspec": {
   "display_name": "myai",
   "language": "python",
   "name": "python3"
  },
  "language_info": {
   "codemirror_mode": {
    "name": "ipython",
    "version": 3
   },
   "file_extension": ".py",
   "mimetype": "text/x-python",
   "name": "python",
   "nbconvert_exporter": "python",
   "pygments_lexer": "ipython3",
   "version": "3.12.3"
  }
 },
 "nbformat": 4,
 "nbformat_minor": 2
}
